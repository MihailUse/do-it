{
 "cells": [
  {
   "cell_type": "code",
   "execution_count": null,
   "metadata": {},
   "outputs": [],
   "source": [
    "# импорт необходимых библиотек\n",
    "import pickle\n",
    "import pandas as pd\n",
    "from flask import Flask, request, render_template, send_file"
   ]
  },
  {
   "cell_type": "raw",
   "metadata": {},
   "source": [
    "# загружаем необходимые модули\n",
    "with open('encoder.pcl', 'rb') as f:\n",
    "    encoder = pickle.load(f)\n",
    "    \n",
    "with open('model.pcl', 'rb') as f:\n",
    "    model = pickle.load(f)"
   ]
  },
  {
   "cell_type": "markdown",
   "metadata": {},
   "source": [
    "# Разработка API"
   ]
  },
  {
   "cell_type": "markdown",
   "metadata": {},
   "source": [
    "Определю команды(функции), которые будут доступны в API"
   ]
  },
  {
   "cell_type": "code",
   "execution_count": null,
   "metadata": {},
   "outputs": [],
   "source": [
    "app = Flask(__name__)\n",
    "\n",
    "@app.route('/')\n",
    "def check_server():\n",
    "    return '''\n",
    "    Сервер успешно запущен<br>\n",
    "    Доступные команды:<br>\n",
    "        /model/prediction/(file_name)/ - (file_name) имя файля по которому нужно сделать предсказание, формат файла должен быть .csv<br>\n",
    "    '''\n",
    "\n",
    "@app.route('/model/prediction_from_file/', methods = ['POST', 'GET'])  \n",
    "def upload():  \n",
    "    if request.method == 'POST':  \n",
    "        f = request.files['file']  \n",
    "        f.save('data/' + f.filename)  \n",
    "        return get_predict(f.filename)\n",
    "    else:\n",
    "        return render_template(\"file_upload_form.html\")  \n",
    "    \n",
    "\n",
    "@app.route('/model/prediction/<string:file_name>/')\n",
    "def get_predict(file_name):\n",
    "    print('файл загружен', 'data/'+ file_name)\n",
    "    \n",
    "    X_df = pd.read_csv('data/'+ file_name)\n",
    "    \n",
    "    send_file('data/'+file_name, as_attachment=True) # автоматическая загрузка файла\n",
    "    return 'success'"
   ]
  },
  {
   "cell_type": "markdown",
   "metadata": {},
   "source": [
    "### Запуск сервера"
   ]
  },
  {
   "cell_type": "markdown",
   "metadata": {},
   "source": [
    "Чтобы перейти на гл. страницу перейдите по ссылке ниже."
   ]
  },
  {
   "cell_type": "code",
   "execution_count": null,
   "metadata": {
    "scrolled": true
   },
   "outputs": [],
   "source": [
    "app.run()"
   ]
  },
  {
   "cell_type": "markdown",
   "metadata": {},
   "source": [
    "Для проверки роботоспособности API можно перейти по ссылке: http://127.0.0.1:5000/model/prediction/example.csv/"
   ]
  },
  {
   "cell_type": "code",
   "execution_count": null,
   "metadata": {},
   "outputs": [],
   "source": []
  },
  {
   "cell_type": "code",
   "execution_count": null,
   "metadata": {},
   "outputs": [],
   "source": []
  }
 ],
 "metadata": {
  "kernelspec": {
   "display_name": "Python 3",
   "language": "python",
   "name": "python3"
  },
  "language_info": {
   "codemirror_mode": {
    "name": "ipython",
    "version": 3
   },
   "file_extension": ".py",
   "mimetype": "text/x-python",
   "name": "python",
   "nbconvert_exporter": "python",
   "pygments_lexer": "ipython3",
   "version": "3.8.6"
  }
 },
 "nbformat": 4,
 "nbformat_minor": 4
}
