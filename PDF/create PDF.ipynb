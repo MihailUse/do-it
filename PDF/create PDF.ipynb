{
 "cells": [
  {
   "cell_type": "code",
   "execution_count": 24,
   "metadata": {},
   "outputs": [],
   "source": [
    "from fpdf import FPDF"
   ]
  },
  {
   "cell_type": "code",
   "execution_count": 52,
   "metadata": {},
   "outputs": [
    {
     "data": {
      "text/plain": [
       "''"
      ]
     },
     "execution_count": 52,
     "metadata": {},
     "output_type": "execute_result"
    }
   ],
   "source": [
    "pdf = FPDF(orientation='P', unit='mm', format='A4')\n",
    "pdf.add_page()\n",
    "pdf.add_font('DejaVu', '', 'DejaVuSansCondensed.ttf', uni=True) #  шрифт для русского языка\n",
    "pdf.set_font(\"DejaVu\", size=12)\n",
    "\n",
    "pdf.cell(200, 10, txt=\"Welcome to Python!\", ln=1, align=\"C\")\n",
    "pdf.ln(15) # переместить на 15 вниз \n",
    "pdf.cell(200, 10, txt=\"аывафпыырк авпвап hdfdfhgse to Python!\", ln=1, align=\"R\")\n",
    "pdf.cell(200, 10, txt=\"Welcome to Python!\", ln=1, align=\"L\")\n",
    "\n",
    "pdf.output(\"simple_demo.pdf\")"
   ]
  },
  {
   "cell_type": "code",
   "execution_count": null,
   "metadata": {},
   "outputs": [],
   "source": []
  }
 ],
 "metadata": {
  "kernelspec": {
   "display_name": "Python 3",
   "language": "python",
   "name": "python3"
  },
  "language_info": {
   "codemirror_mode": {
    "name": "ipython",
    "version": 3
   },
   "file_extension": ".py",
   "mimetype": "text/x-python",
   "name": "python",
   "nbconvert_exporter": "python",
   "pygments_lexer": "ipython3",
   "version": "3.8.5"
  }
 },
 "nbformat": 4,
 "nbformat_minor": 4
}
