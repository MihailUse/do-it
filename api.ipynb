{
 "cells": [
  {
   "cell_type": "code",
   "execution_count": 2,
   "metadata": {},
   "outputs": [],
   "source": [
    "# импорт необходимых библиотек\n",
    "import pickle\n",
    "import pandas as pd\n",
    "from flask import Flask, request"
   ]
  },
  {
   "cell_type": "code",
   "execution_count": 3,
   "metadata": {},
   "outputs": [],
   "source": [
    "# загружаем необходимые модули\n",
    "with open('encoder.pcl', 'rb') as f:\n",
    "    encoder = pickle.load(f)\n",
    "    \n",
    "with open('model.pcl', 'rb') as f:\n",
    "    model = pickle.load(f)"
   ]
  },
  {
   "cell_type": "markdown",
   "metadata": {},
   "source": [
    "# Разработка API"
   ]
  },
  {
   "cell_type": "markdown",
   "metadata": {},
   "source": [
    "Определю команды(функции), которые будут доступны в API"
   ]
  },
  {
   "cell_type": "code",
   "execution_count": 4,
   "metadata": {},
   "outputs": [],
   "source": [
    "app = Flask(__name__)\n",
    "\n",
    "@app.route('/')\n",
    "def check_server():\n",
    "    return '''\n",
    "    Сервер успешно запущен<br>\n",
    "    Доступные команды:<br>\n",
    "        /model/prediction/(file_name)/ - (file_name) имя файля по которому нужно сделать предсказание, формат файла должен быть .csv<br>\n",
    "    '''\n",
    "\n",
    "@app.route('/model/prediction/<string:file_name>/')\n",
    "def get_predict(file_name):\n",
    "    X_df = pd.read_csv('data/'+ file_name)\n",
    "    \n",
    "    X_df['age'] = encoder['age'].transform(X_df['age'])\n",
    "    X_df['A1Cresult'] = encoder['A1Cresult'].transform(X_df['A1Cresult'])\n",
    "    X_df['insulin'] = encoder['insulin'].transform(X_df['insulin'])\n",
    "    \n",
    "    pred = model.predict(X_df)\n",
    "    res = encoder['readmitted'].inverse_transform(pred)[0] if encoder['readmitted'].inverse_transform(pred)[0] != 'NO' else '0'\n",
    "\n",
    "    return f'Наиболее вероятно, что пациент будет повторно принят: {res} раз'"
   ]
  },
  {
   "cell_type": "markdown",
   "metadata": {},
   "source": [
    "### Запуск сервера"
   ]
  },
  {
   "cell_type": "markdown",
   "metadata": {},
   "source": [
    "Чтобы перейти на гл. страницу перейдите по ссылке ниже."
   ]
  },
  {
   "cell_type": "code",
   "execution_count": null,
   "metadata": {},
   "outputs": [
    {
     "name": "stdout",
     "output_type": "stream",
     "text": [
      " * Serving Flask app \"__main__\" (lazy loading)\n",
      " * Environment: production\n",
      "   WARNING: This is a development server. Do not use it in a production deployment.\n",
      "   Use a production WSGI server instead.\n",
      " * Debug mode: off\n"
     ]
    },
    {
     "name": "stderr",
     "output_type": "stream",
     "text": [
      " * Running on http://127.0.0.1:5000/ (Press CTRL+C to quit)\n",
      "127.0.0.1 - - [30/Nov/2020 11:08:29] \"\u001b[37mGET / HTTP/1.1\u001b[0m\" 200 -\n",
      "127.0.0.1 - - [30/Nov/2020 11:08:29] \"\u001b[33mGET /favicon.ico HTTP/1.1\u001b[0m\" 404 -\n",
      "127.0.0.1 - - [30/Nov/2020 11:08:40] \"\u001b[37mGET /model/prediction/example.csv/ HTTP/1.1\u001b[0m\" 200 -\n"
     ]
    }
   ],
   "source": [
    "app.run()"
   ]
  },
  {
   "cell_type": "markdown",
   "metadata": {},
   "source": [
    "Для проверки роботоспособности API можно перейти по ссылке: http://127.0.0.1:5000/model/prediction/example.csv/"
   ]
  },
  {
   "cell_type": "code",
   "execution_count": null,
   "metadata": {},
   "outputs": [],
   "source": []
  },
  {
   "cell_type": "code",
   "execution_count": null,
   "metadata": {},
   "outputs": [],
   "source": []
  }
 ],
 "metadata": {
  "kernelspec": {
   "display_name": "Python 3",
   "language": "python",
   "name": "python3"
  },
  "language_info": {
   "codemirror_mode": {
    "name": "ipython",
    "version": 3
   },
   "file_extension": ".py",
   "mimetype": "text/x-python",
   "name": "python",
   "nbconvert_exporter": "python",
   "pygments_lexer": "ipython3",
   "version": "3.8.3"
  }
 },
 "nbformat": 4,
 "nbformat_minor": 4
}
